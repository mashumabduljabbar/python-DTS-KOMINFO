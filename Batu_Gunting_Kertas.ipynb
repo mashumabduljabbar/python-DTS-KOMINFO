{
  "nbformat": 4,
  "nbformat_minor": 0,
  "metadata": {
    "colab": {
      "name": "Batu_Gunting_Kertas.ipynb",
      "provenance": [],
      "collapsed_sections": []
    },
    "kernelspec": {
      "name": "python3",
      "display_name": "Python 3"
    }
  },
  "cells": [
    {
      "cell_type": "code",
      "metadata": {
        "id": "YrRDpChPcQbh",
        "colab_type": "code",
        "colab": {
          "base_uri": "https://localhost:8080/",
          "height": 136
        },
        "outputId": "4bea05cb-405a-4436-928c-eb191369f69e"
      },
      "source": [
        "from random import randint\n",
        "\n",
        "def validate(hand):\n",
        "    if hand < 0 or hand > 2:\n",
        "        return False\n",
        "    return True\n",
        "\n",
        "def print_hand(hand, name='Tamu'):\n",
        "    hands = ['Batu', 'Kertas', 'Gunting']\n",
        "    print(name + ' memilih: ' + hands[hand])\n",
        "\n",
        "# Definisikan function judge \n",
        "def judge(player, computer):\n",
        "    # Tambahkan control flow berdasarkan perbandingan antara player dan computer\n",
        "    if player == computer:\n",
        "        return 'Seri'\n",
        "    elif player == 0 and computer == 1:\n",
        "        return 'Kalah'\n",
        "    elif player == 1 and computer == 2:\n",
        "        return 'Kalah'\n",
        "    elif player == 2 and computer == 0:\n",
        "        return 'Kalah'\n",
        "    else:\n",
        "        return 'Menang'\n",
        "    \n",
        "\n",
        "print('Memulai permainan Batu Kertas Gunting!')\n",
        "player_name = input('Masukkan nama Anda: ')\n",
        "\n",
        "print('Pilih tangan: (0: Batu, 1: Kertas, 2: Gunting)')\n",
        "player_hand = int(input('Masukkan nomor (0-2): '))\n",
        "\n",
        "\n",
        "if validate(player_hand):\n",
        "    computer_hand = randint(0, 2)\n",
        "    \n",
        "    print_hand(player_hand, player_name)\n",
        "    print_hand(computer_hand, 'Komputer')\n",
        "    \n",
        "    # Tetapkan nilai return dari judge ke variable result \n",
        "    result = judge(player_hand, computer_hand)\n",
        "    # Cetak variable result \n",
        "    print('Hasil: '+result)\n",
        "else:\n",
        "    print('Mohon masukkan nomor yang benar')\n"
      ],
      "execution_count": 1,
      "outputs": [
        {
          "output_type": "stream",
          "text": [
            "Memulai permainan Batu Kertas Gunting!\n",
            "Masukkan nama Anda: Jabbar\n",
            "Pilih tangan: (0: Batu, 1: Kertas, 2: Gunting)\n",
            "Masukkan nomor (0-2): 1\n",
            "Jabbar memilih: Kertas\n",
            "Komputer memilih: Kertas\n",
            "Hasil: Seri\n"
          ],
          "name": "stdout"
        }
      ]
    }
  ]
}