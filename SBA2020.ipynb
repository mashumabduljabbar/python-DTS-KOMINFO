{
  "nbformat": 4,
  "nbformat_minor": 0,
  "metadata": {
    "colab": {
      "name": "SBA2020.ipynb",
      "provenance": [],
      "collapsed_sections": [],
      "authorship_tag": "ABX9TyMhRrrBbQCMCKTzM7kbpNPE",
      "include_colab_link": true
    },
    "kernelspec": {
      "name": "python3",
      "display_name": "Python 3"
    }
  },
  "cells": [
    {
      "cell_type": "markdown",
      "metadata": {
        "id": "view-in-github",
        "colab_type": "text"
      },
      "source": [
        "<a href=\"https://colab.research.google.com/github/multimediary/python-DTS-KOMINFO/blob/master/SBA2020.ipynb\" target=\"_parent\"><img src=\"https://colab.research.google.com/assets/colab-badge.svg\" alt=\"Open In Colab\"/></a>"
      ]
    },
    {
      "cell_type": "markdown",
      "metadata": {
        "id": "AopiGYF_xA7e",
        "colab_type": "text"
      },
      "source": [
        "Instructions\n",
        "Semua soal bersifat \"coding\", persiapkan text editor anda sebelum memulai Skill Based Assessment (SBA) ini.\n",
        "Sifat Skill Based Assessment ini individu dan dilarang bekerja sama.\n",
        "\n",
        "Waktu yang diberikan 120 menit setelah anda memulai quiz. Pastikan koneksi internet cukup baik. Jadi kalau sudah membuka quiz ini, berarti saudara sudah memulai ujiannya dan selesaikan soalnya dengan baik.\n",
        "\n",
        "Dimohon tidak upload mendekati batas waktu, usahakan 15 menit sebelum waktu habis"
      ]
    },
    {
      "cell_type": "markdown",
      "metadata": {
        "id": "t8Ylo7iAqrNj",
        "colab_type": "text"
      },
      "source": [
        "**<h1>Section 1: Pemanasan**"
      ]
    },
    {
      "cell_type": "markdown",
      "metadata": {
        "id": "HrgzKjCoeZR1",
        "colab_type": "text"
      },
      "source": [
        "SOAL 1: Buatlah sebuah fungsi dengan naman fungsiIO, yang tidak memiliki argument masukan apapun, untuk mengubah input dari user berupa barisan angka yang dipisahkan oleh space yang mencetak karakter bintang sejumlah angka tersebut yang diurutkan dari angka terkecil (paling atas) sampai angka terbesar (paling bawah). Note: Gunakan hanya satu kali command/fungsi input.\n",
        "\n",
        "Contoh: (ada di block main)\n",
        "\n",
        "Run/invoke fungsi:\n",
        "\n",
        "```\n",
        "fungsiIO() # contoh input 7 4 5 3 1 2\n",
        "```\n",
        "\n",
        "Masukan dan keluaran:\n",
        "\n",
        "```\n",
        "7 4 5 3 1 2\n",
        "*\n",
        "**\n",
        "***\n",
        "****\n",
        "*****\n",
        "*******\n",
        "```\n",
        "\n",
        "\n",
        "Baris pertama merupakan prompt input dari user."
      ]
    },
    {
      "cell_type": "markdown",
      "metadata": {
        "id": "AmHfk13Ynt7C",
        "colab_type": "text"
      },
      "source": [
        "Jawaban Soal 1 :"
      ]
    },
    {
      "cell_type": "code",
      "metadata": {
        "id": "wdHIz2Lkw_WQ",
        "colab_type": "code",
        "colab": {
          "base_uri": "https://localhost:8080/",
          "height": 170
        },
        "outputId": "55da6d17-663a-4f95-f8b3-7f760f6b0b14"
      },
      "source": [
        "inputList = list(input().split())\n",
        "\n",
        "def fungsiIO():\n",
        "  print(*inputList,'\\n')\n",
        "  for x in range(0, len(inputList)): \n",
        "    inputList[x] = int(inputList[x])\n",
        "  inputList.sort()\n",
        "  for y in inputList:\n",
        "    print('*'*y)\n",
        "\n",
        "fungsiIO()"
      ],
      "execution_count": 38,
      "outputs": [
        {
          "output_type": "stream",
          "text": [
            "7 4 5 3 1 2\n",
            "7 4 5 3 1 2 \n",
            "\n",
            "*\n",
            "**\n",
            "***\n",
            "****\n",
            "*****\n",
            "*******\n"
          ],
          "name": "stdout"
        }
      ]
    },
    {
      "cell_type": "markdown",
      "metadata": {
        "id": "nVcAmOWhn2T2",
        "colab_type": "text"
      },
      "source": [
        "SOAL 2: Sophia adalah sebuah robot yang masih dalam tahap pengembangan (versi alpha). Saat ini Sophia sedang mempelajari perbedaan huruf kecil (non-kapital) dan besar (kapital). Kemampuan Shopia hanya bisa mengenali huruf saja, selain huruf akan diabaikan oleh Shopia. Bantulah si pembuat robot untuk membuat sebuah fungsi sebagai fitur game di robot Shopia, dengan ketentuan sebagai berikut.\n",
        "\n",
        "Buatlah, sebuah fungsi caseShopia dengan sebuah masukan/argument txt (tipe:string), dimana fungsi ini akan mengubah huruf-huruf kecil menjadi besar, dan huruf besar menjadi kecil. Untuk karakter selain huruf akan dihapus oleh fungsi ini caseShopia. Keluaran fungsi ini merupakan text bertipe string.\n",
        "\n",
        "Contoh: (ada di block main)\n",
        "\n",
        "Run/invoke fungsi:\n",
        "\n",
        "```\n",
        "print(caseShopia('thXGth876%^$LMn.'))\n",
        "```\n",
        "\n",
        "Keluaran:\n",
        "\n",
        "```\n",
        "THxgTHlmN\n",
        "```\n",
        "\n"
      ]
    },
    {
      "cell_type": "markdown",
      "metadata": {
        "id": "AXpgWY7HoAhW",
        "colab_type": "text"
      },
      "source": [
        "Jawaban Soal 2 :"
      ]
    },
    {
      "cell_type": "code",
      "metadata": {
        "id": "wxuycZOVoCjN",
        "colab_type": "code",
        "colab": {
          "base_uri": "https://localhost:8080/",
          "height": 34
        },
        "outputId": "277dcada-d453-431d-9bfa-c4303c648813"
      },
      "source": [
        "def caseShopia(txt):\n",
        "  newstring ='' \n",
        "  for a in txt: \n",
        "    if (a.islower()) == True:\n",
        "      newstring+=(a.upper()) \n",
        "    elif (a.isupper()) == True:\n",
        "      newstring+=(a.lower()) \n",
        "    else:\n",
        "      newstring+=(a.replace(a,\"\"))\n",
        "  return newstring\n",
        "\n",
        "print(caseShopia('thXGth876%^$LMn.'))"
      ],
      "execution_count": 46,
      "outputs": [
        {
          "output_type": "stream",
          "text": [
            "THxgTHlmN\n"
          ],
          "name": "stdout"
        }
      ]
    },
    {
      "cell_type": "markdown",
      "metadata": {
        "id": "dcHnVaicqxJR",
        "colab_type": "text"
      },
      "source": [
        "**<h1>Section 2: Pertukaran mata uang**"
      ]
    },
    {
      "cell_type": "markdown",
      "metadata": {
        "id": "QuAHKEIfq3gR",
        "colab_type": "text"
      },
      "source": [
        "Disediakan sebuah dictionary dcur2idr (anda tidak diperkenankan merubah isi dictionary tersebut) yang akan anda gunakan untuk menyelesaikan soal 3 dan 4. dcur2idr merupakan dictionary nilai tukar beberapa mata uang terhadap rupiah. Contoh dcur2idr['USD']==14425, dengan kata lain $1 USD = Rp. 14425 IDR.\n",
        "\n",
        "SOAL 3: Buatlah sebuah fungsi usd2eur dengan sebuah argument usd. Yang akan mengkonversi nilai mata uang dari USD ke EUR. Fungsi ini mengebalikan sebuah nilai dengan tipe float. Gunakanlah dcur2idr di dalam fungsi yang anda buat.\n",
        "\n",
        "Note: tidak perlu khawatir kalau output anda tidak terlalu presisi, grader akan mentolerir perbedaan digit setelah 5 angka di belakang koma.\n",
        "\n",
        "Contoh: (ada di block main)\n",
        "\n",
        "Run/invoke fungsi:\n",
        "\n",
        "\n",
        "```\n",
        "print(usd2eur(100)) # konversi $100 USD ke nilai EUR\n",
        "```\n",
        "\n",
        "\n",
        "Keluaran:\n",
        "\n",
        "\n",
        "```\n",
        "88.90600924499229\n",
        "```\n",
        "\n"
      ]
    },
    {
      "cell_type": "markdown",
      "metadata": {
        "id": "yY_vvParrxyt",
        "colab_type": "text"
      },
      "source": [
        "Jawaban Soal 3 :"
      ]
    },
    {
      "cell_type": "code",
      "metadata": {
        "id": "g2l6tTtjrwuU",
        "colab_type": "code",
        "colab": {}
      },
      "source": [
        "dcur2idr = {'USD': 14425, 'EUR': 16225, 'AUD': 9925, 'CAD': 10500, \n",
        "             'GBP': 17800, 'CHF': 15200, 'SGD': 10375, 'HKD': 1775, \n",
        "             'JPY': 132500, 'MYR': 3250, 'SAR': 3500, 'WON': 10750, \n",
        "             'IDR': 1}"
      ],
      "execution_count": 97,
      "outputs": []
    },
    {
      "cell_type": "code",
      "metadata": {
        "id": "tNxWZumZuJMH",
        "colab_type": "code",
        "colab": {
          "base_uri": "https://localhost:8080/",
          "height": 34
        },
        "outputId": "965cf72c-03dc-47df-92d6-aada0a9f98ab"
      },
      "source": [
        "money_ratio = {}\n",
        "total = sum(dcur2idr.values())\n",
        "for i in dcur2idr:\n",
        "    money_ratio [i] = dcur2idr[i]/total\n",
        "money_ratio\n",
        "\n",
        "def usd2eur(usd):\n",
        "  konversi = usd * (money_ratio[\"USD\"]/money_ratio[\"EUR\"])\n",
        "  return konversi\n",
        "\n",
        "print(usd2eur(100))"
      ],
      "execution_count": 94,
      "outputs": [
        {
          "output_type": "stream",
          "text": [
            "88.9060092449923\n"
          ],
          "name": "stdout"
        }
      ]
    },
    {
      "cell_type": "markdown",
      "metadata": {
        "id": "0xXYIAh9xlSK",
        "colab_type": "text"
      },
      "source": [
        "SOAL 4: Buatlah sebuah class untuk kebutuhan sebuah perusahaan Money Changer. dengan ketentuan sebagai berikut:\n",
        "\n",
        "Atribut:\n",
        "\n",
        "dcurrency (tipe dict) yang merupakan dictionary yang berisikan nilai tukar mata uang.\n",
        "base (tipe string, default = 'IDR') berupa basis mata uang dari dictionary dcurrency. Contoh: dcur2idr merupakan dictionary mata uang dengan basis 'IDR'.\n",
        "percent (tipe int, default = 2) merupakan presentase keuntungan dari nilai jual dan beli. Rentang nilai dari 0 - 100. (akan digunakan di dalam method)\n",
        "Method:\n",
        "\n",
        "selling_price dengan dua posisional arguments yaitu nominal (tipe float) dan curr (tipe string, key dari dictionary). Yang akan mengkonversi nilai mata uang dari curr ke mata uang base. Harga jual selling_price sekian percent (attribut percent dari object) lebih tinggi dari nilai tukar asli. Tipe keluaran float.\n",
        "buying_price dengan dua posisional arguments yaitu nominal (tipe float) dan curr (tipe string, key dari dictionary). Yang akan mengkonversi nilai mata uang dari curr ke mata uang base. Harga jual buying_price sekian percent (attribut percent dari object) lebih rendah dari nilai tukar asli. Tipe keluaran float.\n",
        "change_base dengan satu posisional argument new_base, mengupdate/mengubah nilai atribut base menjadi new_base. Dan juga mengupdate atribut dcurrency dengan nilai value sesuai dengan base yang baru. Gunakan looping untuk mengganti value dari dictionary ke base yang baru.\n",
        "Contoh: (ada di block main)\n",
        "\n",
        "Run/invoke fungsi:\n",
        "\n",
        "```\n",
        "mc = MoneyChanger(dcur2idr,base='EUR') # object mc dengan base EUR\n",
        "print('base', mc.base)\n",
        "print(mc.selling_price(100,'USD')) # nilai jual 100 USD ke EUR (Base)\n",
        "print(mc.buying_price(100,'USD')) # nilai beli 100 USD ke EUR (Base)\n",
        "\n",
        "mc.change_base('IDR') # Ganti Base object mc ke IDR\n",
        "print('base', mc.base)\n",
        "print(mc.selling_price(100,'USD')) # nilai jual 100 USD ke IDR (Base)\n",
        "print(mc.buying_price(100,'USD'))  # nilai beli 100 USD ke IDR (Base)\n",
        "```\n",
        "\n",
        "Keluaran:\n",
        "\n",
        "\n",
        "```\n",
        "base EUR\n",
        "90.68412942989215\n",
        "87.12788906009246\n",
        "base IDR\n",
        "1471350.0000000002\n",
        "1413650.0000000002\n",
        "```\n",
        "\n",
        "\n",
        "Hint: Anda bisa memanggil method change_base di dalam konstruktor. Sehingga meskipun nilai awal atribut dcurrency dalam basis apapun, akan diubah/updated ke basis tujuan. Contoh cara memanggil method dalam method construtor: self.change_base(base)."
      ]
    },
    {
      "cell_type": "code",
      "metadata": {
        "id": "JPraHxAYxwtn",
        "colab_type": "code",
        "colab": {}
      },
      "source": [
        "class MoneyChanger:\n",
        "  def __init__(self,dcurrency,base='IDR',percent=2):\n",
        "    pass\n",
        "    # Mulai kode anda dari sini\n",
        "    self.dcurrency = dcurrency\n",
        "    self.base = base\n",
        "    self.percent = percent\n",
        "\n",
        "  def selling_price(self,nominal,curr):\n",
        "    pass\n",
        "    # Mulai kode anda dari sini\n",
        "    self.nominal = nominal\n",
        "    self.curr = curr\n",
        "    money_ratio = {}\n",
        "    total = sum(dcur2idr.values())\n",
        "    for i in dcur2idr:\n",
        "        money_ratio [i] = dcur2idr[i]/total\n",
        "    money_ratio\n",
        "    konversi = self.nominal * (money_ratio[self.curr]/money_ratio[self.base]) * (100+self.percent)/100\n",
        "    return konversi \n",
        "  def buying_price(self,nominal,curr):\n",
        "    pass\n",
        "    # Mulai kode anda dari sini\n",
        "    self.nominal = nominal\n",
        "    self.curr = curr\n",
        "    money_ratio = {}\n",
        "    total = sum(dcur2idr.values())\n",
        "    for i in dcur2idr:\n",
        "        money_ratio [i] = dcur2idr[i]/total\n",
        "    money_ratio\n",
        "    konversi = self.nominal * (money_ratio[self.curr]/money_ratio[self.base]) * (100-self.percent)/100\n",
        "    return konversi \n",
        "  def change_base(self,new_base):\n",
        "    pass\n",
        "    # Mulai kode anda dari sini\n",
        "    self.base = new_base\n",
        "    f = MoneyChanger(dcurrency=self.dcurrency)\n",
        "    return f"
      ],
      "execution_count": 327,
      "outputs": []
    },
    {
      "cell_type": "code",
      "metadata": {
        "id": "XQfLP3b12Gg_",
        "colab_type": "code",
        "colab": {
          "base_uri": "https://localhost:8080/",
          "height": 119
        },
        "outputId": "5db8579c-1e99-4de3-f470-1de2a84c7fdb"
      },
      "source": [
        "mc = MoneyChanger(dcur2idr,base='EUR') # object mc dengan base EUR\n",
        "print('base', mc.base)\n",
        "print(mc.selling_price(100,'USD')) # nilai jual 100 USD ke EUR (Base)\n",
        "print(mc.buying_price(100,'USD')) # nilai beli 100 USD ke EUR (Base)\n",
        "\n",
        "mc.change_base('IDR') # Ganti Base object mc ke IDR\n",
        "print('base', mc.base)\n",
        "print(mc.selling_price(100,'USD')) # nilai jual 100 USD ke IDR (Base)\n",
        "print(mc.buying_price(100,'USD'))  # nilai beli 100 USD ke IDR (Base)"
      ],
      "execution_count": 330,
      "outputs": [
        {
          "output_type": "stream",
          "text": [
            "base EUR\n",
            "90.68412942989215\n",
            "87.12788906009246\n",
            "base IDR\n",
            "1471350.0\n",
            "1413650.0\n"
          ],
          "name": "stdout"
        }
      ]
    }
  ]
}