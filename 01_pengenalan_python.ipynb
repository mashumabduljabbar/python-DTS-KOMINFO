{
  "nbformat": 4,
  "nbformat_minor": 0,
  "metadata": {
    "kernelspec": {
      "display_name": "Python 3",
      "language": "python",
      "name": "python3"
    },
    "language_info": {
      "codemirror_mode": {
        "name": "ipython",
        "version": 3
      },
      "file_extension": ".py",
      "mimetype": "text/x-python",
      "name": "python",
      "nbconvert_exporter": "python",
      "pygments_lexer": "ipython3",
      "version": "3.6.7"
    },
    "colab": {
      "name": "01_pengenalan_python.ipynb",
      "provenance": []
    }
  },
  "cells": [
    {
      "cell_type": "markdown",
      "metadata": {
        "id": "Kq2zzM-UWWlu",
        "colab_type": "text"
      },
      "source": [
        "# DIGITAL TALENT \n",
        "\n",
        "Setelah mengikuti materi pertama ini peserta diharapkan dapat:\n",
        "1. Menjalankan sintaks dasar python\n",
        "2. Mengenal variabel serta mampu menggunakan variabel\n",
        "3. Mengetahui jenis-jenis tipe data dalam python\n",
        "4. Mengetahui jenis-jenis operator\n",
        "5. Dapat menggunakan operator aritmetika, assignment, perbandingan, serta logika \n",
        "6. Memahami algoritma dari statement kondisi\n",
        "7. Dapat menggunakan statement kondisi dalam kasus pemrograman"
      ]
    },
    {
      "cell_type": "markdown",
      "metadata": {
        "id": "Qgd-wHGUWWlv",
        "colab_type": "text"
      },
      "source": [
        "## Hello World !"
      ]
    },
    {
      "cell_type": "code",
      "metadata": {
        "id": "LuB7X195WWlw",
        "colab_type": "code",
        "colab": {
          "base_uri": "https://localhost:8080/",
          "height": 34
        },
        "outputId": "e5ccc4d9-ecc2-45a2-9376-8db7e0ff6d6b"
      },
      "source": [
        "print(\"Hello World\")"
      ],
      "execution_count": 18,
      "outputs": [
        {
          "output_type": "stream",
          "text": [
            "Hello World\n"
          ],
          "name": "stdout"
        }
      ]
    },
    {
      "cell_type": "markdown",
      "metadata": {
        "id": "wV_aGM2DWWlz",
        "colab_type": "text"
      },
      "source": [
        "## Variabel \n",
        "Variabel adalah tempat menyimpan nilai sementara. Berikut adalah cara mendeklarasikan, menginisialisasi variabel dan memanggil variabel dalam python:\n"
      ]
    },
    {
      "cell_type": "code",
      "metadata": {
        "id": "gEqSVR6LWWl0",
        "colab_type": "code",
        "colab": {
          "base_uri": "https://localhost:8080/",
          "height": 51
        },
        "outputId": "6db2a197-91e3-4587-b675-a90c403142fe"
      },
      "source": [
        "nama = \"Guntur Budi Herwanto\"\n",
        "ph = 6\n",
        "\n",
        "print(type(nama))\n",
        "print(type(ph))"
      ],
      "execution_count": 2,
      "outputs": [
        {
          "output_type": "stream",
          "text": [
            "<class 'str'>\n",
            "<class 'int'>\n"
          ],
          "name": "stdout"
        }
      ]
    },
    {
      "cell_type": "markdown",
      "metadata": {
        "id": "ydfEG5G7WWl3",
        "colab_type": "text"
      },
      "source": [
        "Nilai dalam variabel dapat diubah sewaktu waktu"
      ]
    },
    {
      "cell_type": "code",
      "metadata": {
        "id": "HLiov-94WWl3",
        "colab_type": "code",
        "colab": {
          "base_uri": "https://localhost:8080/",
          "height": 34
        },
        "outputId": "2d4c186d-3197-4ace-a7cb-ddbe2253af0b"
      },
      "source": [
        "nama = \"Guntur Budi Herwanto\"\n",
        "nama = \"Adiyo Hidayat\"\n",
        "\n",
        "print(nama)"
      ],
      "execution_count": 3,
      "outputs": [
        {
          "output_type": "stream",
          "text": [
            "Adiyo Hidayat\n"
          ],
          "name": "stdout"
        }
      ]
    },
    {
      "cell_type": "markdown",
      "metadata": {
        "id": "OHSwEcI1WWl6",
        "colab_type": "text"
      },
      "source": [
        "Kita juga bisa memberikan beberapa nilai pada variabel secara langsung"
      ]
    },
    {
      "cell_type": "code",
      "metadata": {
        "id": "SRrJLQmXWWl6",
        "colab_type": "code",
        "colab": {
          "base_uri": "https://localhost:8080/",
          "height": 68
        },
        "outputId": "468b49d4-2c3a-4d57-c60c-e2daeb321d99"
      },
      "source": [
        "a, b, c = 5, 3.2, \"Hello\"\n",
        "\n",
        "print (a)\n",
        "print (b)\n",
        "print (c)"
      ],
      "execution_count": 4,
      "outputs": [
        {
          "output_type": "stream",
          "text": [
            "5\n",
            "3.2\n",
            "Hello\n"
          ],
          "name": "stdout"
        }
      ]
    },
    {
      "cell_type": "code",
      "metadata": {
        "id": "JufaxcUQWWl9",
        "colab_type": "code",
        "colab": {
          "base_uri": "https://localhost:8080/",
          "height": 68
        },
        "outputId": "52946d6e-472c-436e-8e83-f3c47b4fff7b"
      },
      "source": [
        "x = y = z = 8\n",
        "\n",
        "print (x)\n",
        "print (y)\n",
        "print (z)"
      ],
      "execution_count": 5,
      "outputs": [
        {
          "output_type": "stream",
          "text": [
            "8\n",
            "8\n",
            "8\n"
          ],
          "name": "stdout"
        }
      ]
    },
    {
      "cell_type": "markdown",
      "metadata": {
        "id": "8SYJBoWRWWmA",
        "colab_type": "text"
      },
      "source": [
        "## TIPE DATA\n",
        "Dalam setiap nilai di variabel, terdapat sebuah tipe data tertentu. Pada python, terdapat beberapa tipe data:\n",
        "\n",
        "- Numbers\n",
        "- Strings\n",
        "- Boolean\n",
        "- List\n",
        "- Tuple\n",
        "- Set\n",
        "- Dictionary"
      ]
    },
    {
      "cell_type": "markdown",
      "metadata": {
        "id": "isKUWeKFWWmA",
        "colab_type": "text"
      },
      "source": [
        "### Numbers\n",
        "- Integer : Angka tanpa koma\n",
        "- Float : Angka dengan Koma"
      ]
    },
    {
      "cell_type": "code",
      "metadata": {
        "id": "A5uVjbD2WWmB",
        "colab_type": "code",
        "colab": {
          "base_uri": "https://localhost:8080/",
          "height": 51
        },
        "outputId": "ca2d4be7-e689-47bb-bd86-0dcbbe80c202"
      },
      "source": [
        "a = 5\n",
        "print(a, \"mempunyai tipe\", type(a))\n",
        "\n",
        "a = 5.0\n",
        "print(a, \"mempunyai tipe\", type(a))"
      ],
      "execution_count": 6,
      "outputs": [
        {
          "output_type": "stream",
          "text": [
            "5 mempunyai tipe <class 'int'>\n",
            "5.0 mempunyai tipe <class 'float'>\n"
          ],
          "name": "stdout"
        }
      ]
    },
    {
      "cell_type": "markdown",
      "metadata": {
        "id": "FKMv0J5CWWmE",
        "colab_type": "text"
      },
      "source": [
        "### Boolean\n",
        "Benar atau Salah?"
      ]
    },
    {
      "cell_type": "code",
      "metadata": {
        "id": "0irs46GBWWmE",
        "colab_type": "code",
        "colab": {
          "base_uri": "https://localhost:8080/",
          "height": 51
        },
        "outputId": "31cd777d-9436-4895-e1ed-aa7426ef51b1"
      },
      "source": [
        "a = 5>6\n",
        "print(a, \"mempunyai tipe\", type(a))\n",
        "\n",
        "a = 6>5\n",
        "print(a, \"mempunyai tipe\", type(a))"
      ],
      "execution_count": 7,
      "outputs": [
        {
          "output_type": "stream",
          "text": [
            "False mempunyai tipe <class 'bool'>\n",
            "True mempunyai tipe <class 'bool'>\n"
          ],
          "name": "stdout"
        }
      ]
    },
    {
      "cell_type": "markdown",
      "metadata": {
        "id": "dErZvpGEWWmH",
        "colab_type": "text"
      },
      "source": [
        "### String\n",
        "Kumpulan karakter"
      ]
    },
    {
      "cell_type": "code",
      "metadata": {
        "id": "wfsiVKxvWWmH",
        "colab_type": "code",
        "colab": {
          "base_uri": "https://localhost:8080/",
          "height": 34
        },
        "outputId": "a53b47cc-3e3e-4448-842f-1c252ce7abc8"
      },
      "source": [
        "a = \"Ini adalah sebuah string\"\n",
        "print(a, \"mempunyai tipe\", type(a))"
      ],
      "execution_count": 8,
      "outputs": [
        {
          "output_type": "stream",
          "text": [
            "Ini adalah sebuah string mempunyai tipe <class 'str'>\n"
          ],
          "name": "stdout"
        }
      ]
    },
    {
      "cell_type": "markdown",
      "metadata": {
        "id": "ndoWcqLyWWmK",
        "colab_type": "text"
      },
      "source": [
        "### List & Tuple & Dictionary\n",
        "dibahas minggu depan"
      ]
    },
    {
      "cell_type": "markdown",
      "metadata": {
        "id": "HwrVOnOpWWmK",
        "colab_type": "text"
      },
      "source": [
        "## Operator"
      ]
    },
    {
      "cell_type": "markdown",
      "metadata": {
        "id": "v-HYvEY6WWmK",
        "colab_type": "text"
      },
      "source": [
        "### 1. Operator Aritmetika\n",
        "\n",
        "| Operator | Arti                                                                                          | Contoh                  |\n",
        "|----------|--------------------------------------------------------------------------------------------------|--------------------------|\n",
        "| +        | Penambahan                                                                   | x + y                 |\n",
        "| -        | Pengurangan                                              | x - y                  |\n",
        "| *        | Perkalian                                                                            | x * y                    |\n",
        "| /        | Pembagian                                 | x / y                    |\n",
        "| %        | Modulo - Sisa Pembagian                                 | x % y (sisa pembagian of x/y) |\n",
        "| //       | Pembagian dan dibulatkan ke bawah | x // y                   |\n",
        "| **       | Eksponen - Pangkat                                             | x**y (x pangkat y)  |"
      ]
    },
    {
      "cell_type": "code",
      "metadata": {
        "id": "oB0oAClBWWmL",
        "colab_type": "code",
        "colab": {
          "base_uri": "https://localhost:8080/",
          "height": 102
        },
        "outputId": "cecae8fa-56e4-407c-c8fa-73fb6c7fb6dd"
      },
      "source": [
        "x = 5\n",
        "y = 4\n",
        "\n",
        "print(x+y)\n",
        "print(x/y)\n",
        "print(x//y)\n",
        "print(x*y)\n",
        "print(x**y)\n"
      ],
      "execution_count": 9,
      "outputs": [
        {
          "output_type": "stream",
          "text": [
            "9\n",
            "1.25\n",
            "1\n",
            "20\n",
            "625\n"
          ],
          "name": "stdout"
        }
      ]
    },
    {
      "cell_type": "markdown",
      "metadata": {
        "id": "4JUi-LbhWWmN",
        "colab_type": "text"
      },
      "source": [
        "### 2. Operator Assignment\n",
        "Pemberian Nilai, Updating Nilai"
      ]
    },
    {
      "cell_type": "code",
      "metadata": {
        "id": "ms8k-2NrWWmO",
        "colab_type": "code",
        "colab": {
          "base_uri": "https://localhost:8080/",
          "height": 68
        },
        "outputId": "d4226080-e54d-467b-8cfa-c0aefcaa12d8"
      },
      "source": [
        "a = 5\n",
        "b = 2\n",
        "a = a + 6\n",
        "print(a)\n",
        "a = a * 5\n",
        "print(a)\n",
        "a = b + 3\n",
        "print(a)"
      ],
      "execution_count": 10,
      "outputs": [
        {
          "output_type": "stream",
          "text": [
            "11\n",
            "55\n",
            "5\n"
          ],
          "name": "stdout"
        }
      ]
    },
    {
      "cell_type": "markdown",
      "metadata": {
        "id": "FN6DydpIWWmQ",
        "colab_type": "text"
      },
      "source": [
        "![alt text](https://www.freeiconspng.com/uploads/book-store-icon-31.png \"Bookstore\")\n",
        "\n",
        "## LATIHAN\n",
        "\n",
        "\n",
        "#### Pada keluaran buku terbaru, Harry Potter harga buku adalah Rp 100.000, tetapi toko buku mendapatkan diskon 40%. Pengiriman biaya Rp 9.000 untuk salinan pertama dan Rp 3.000 untuk setiap salinan tambahan. Berapa total biaya keseluruhan untuk pengiriman buku 60 eksemplar?"
      ]
    },
    {
      "cell_type": "code",
      "metadata": {
        "id": "mkZZ6EgQWWmR",
        "colab_type": "code",
        "colab": {
          "base_uri": "https://localhost:8080/",
          "height": 68
        },
        "outputId": "623c1d65-154f-44e8-b4e5-1896dd60e8ea"
      },
      "source": [
        "harga_buku = 300000\n",
        "diskon = 20.0\n",
        "ongkir_pertama = 8000\n",
        "ongkir_selanjutnya = 1000\n",
        "eksemplar = 6\n",
        "\n",
        "harga_setelah_diskon = harga_buku * (100-diskon)/100\n",
        "print(harga_setelah_diskon)\n",
        "\n",
        "harga_ongkir = ongkir_pertama + ongkir_selanjutnya * (eksemplar-1)\n",
        "print(harga_ongkir)\n",
        "\n",
        "harga_total = harga_setelah_diskon * eksemplar + harga_ongkir\n",
        "print(\"Harga Total = \",harga_total)\n"
      ],
      "execution_count": 11,
      "outputs": [
        {
          "output_type": "stream",
          "text": [
            "240000.0\n",
            "13000\n",
            "Harga Total =  1453000.0\n"
          ],
          "name": "stdout"
        }
      ]
    },
    {
      "cell_type": "markdown",
      "metadata": {
        "id": "tp4bX41yWWmT",
        "colab_type": "text"
      },
      "source": [
        "### 3. Operator Perbandingan\n",
        "| Operator | Meaning                 | Example |\n",
        "|----------|-------------------------|---------|\n",
        "| >        | Lebih Dari              | x > y   |\n",
        "| <        | Kurang Dari             | x < y   |\n",
        "| ==       | Sama Dengan             | x == y  |\n",
        "| !=       | Tidak Sam Dengan        | x != y  |\n",
        "| >=       | Lebih dari sama dengan  | x >= y  |\n",
        "| <=       | Kurang dari sama dengan | x <= y  |"
      ]
    },
    {
      "cell_type": "code",
      "metadata": {
        "id": "2PQQ-w0EWWmT",
        "colab_type": "code",
        "colab": {
          "base_uri": "https://localhost:8080/",
          "height": 119
        },
        "outputId": "42682b8a-9def-4f1f-f287-0f9f451a53ba"
      },
      "source": [
        "x = 10\n",
        "y = 12\n",
        "\n",
        "print('x > y  is',x>y)\n",
        "\n",
        "print('x < y  is',x<y)\n",
        "\n",
        "print('x == y is',x==y)\n",
        "\n",
        "print('x != y is',x!=y)\n",
        "\n",
        "print('x >= y is',x>=y)\n",
        "\n",
        "print('x <= y is',x<=y)"
      ],
      "execution_count": 12,
      "outputs": [
        {
          "output_type": "stream",
          "text": [
            "x > y  is False\n",
            "x < y  is True\n",
            "x == y is False\n",
            "x != y is True\n",
            "x >= y is False\n",
            "x <= y is True\n"
          ],
          "name": "stdout"
        }
      ]
    },
    {
      "cell_type": "markdown",
      "metadata": {
        "id": "mJZOK1jTWWmW",
        "colab_type": "text"
      },
      "source": [
        "### 4. Operator Logika\n",
        "\n",
        "| Operator | Keterangan                         | Contoh  |\n",
        "|----------|------------------------------------|---------|\n",
        "| and      | True jika keduanya True            | x and y |\n",
        "| or       | True jika salah satunya True       | x or y  |\n",
        "| not      | not False = True; not True = False | not x   |"
      ]
    },
    {
      "cell_type": "code",
      "metadata": {
        "id": "pQWiS-YsWWmX",
        "colab_type": "code",
        "colab": {
          "base_uri": "https://localhost:8080/",
          "height": 68
        },
        "outputId": "fc707b9f-5184-4ce0-e7f6-bfbef5bc05ab"
      },
      "source": [
        "x = 5 == 5\n",
        "y = 1 > 2\n",
        "\n",
        "\n",
        "print('x and y is',x and y)\n",
        "\n",
        "print('x or y is',x or y)\n",
        "\n",
        "print('not x is',not x)"
      ],
      "execution_count": 13,
      "outputs": [
        {
          "output_type": "stream",
          "text": [
            "x and y is False\n",
            "x or y is True\n",
            "not x is False\n"
          ],
          "name": "stdout"
        }
      ]
    },
    {
      "cell_type": "markdown",
      "metadata": {
        "id": "PM8m1h9jWWmZ",
        "colab_type": "text"
      },
      "source": [
        "# Statement Kondisi / Percabangan\n",
        "Dalam pembuatan program, seringkali kita memiliki kondisi, jika..maka, contohnya: jika nilai hasil ujian > 90, maka calon peserta digital talent berhak mengikuti program beasiswa. Kondisi seperti ini dapat digambarkan dengan Flowchart seperti dibawah ini:"
      ]
    },
    {
      "cell_type": "markdown",
      "metadata": {
        "id": "Q0i9kD4jWWma",
        "colab_type": "text"
      },
      "source": [
        "![alt text](https://cdn.programiz.com/sites/tutorial2program/files/Python_if_statement.jpg \"If Statement\")\n"
      ]
    },
    {
      "cell_type": "markdown",
      "metadata": {
        "id": "f3m1AXNEWWma",
        "colab_type": "text"
      },
      "source": [
        "Berikut adalah sintaks dari kode program kondisional / percabangan.\n",
        "Perhatikan Indentasi yang ada pada sintaks tersebut."
      ]
    },
    {
      "cell_type": "code",
      "metadata": {
        "id": "gEKMkekUWWmb",
        "colab_type": "code",
        "colab": {
          "base_uri": "https://localhost:8080/",
          "height": 51
        },
        "outputId": "ce3fde1b-1468-4409-e17c-a3fb1aacc455"
      },
      "source": [
        "nilai = 8 # Coba dirubah menjadi 80\n",
        "if nilai>=90:\n",
        "    print(\"Lulus\")\n",
        "\n",
        "print(\"Selamat\")\n",
        "print(\"Program Selesai\")"
      ],
      "execution_count": 14,
      "outputs": [
        {
          "output_type": "stream",
          "text": [
            "Selamat\n",
            "Program Selesai\n"
          ],
          "name": "stdout"
        }
      ]
    },
    {
      "cell_type": "markdown",
      "metadata": {
        "id": "YjxEbHTeWWme",
        "colab_type": "text"
      },
      "source": [
        "Dalam bahasa pemrograman Python, Indentasi sangatlah penting untuk menentukan blok kode sebuah program.\n",
        "\n",
        "Selanjutnya, terdapat bentuk yang sedikit lebih kompleks, yaitu dengan menggunakan else:"
      ]
    },
    {
      "cell_type": "markdown",
      "metadata": {
        "id": "ri4o_oR1WWmf",
        "colab_type": "text"
      },
      "source": [
        "![alt text](https://cdn.programiz.com/sites/tutorial2program/files/Python_if_else_statement.jpg \"If Else Statement\")"
      ]
    },
    {
      "cell_type": "code",
      "metadata": {
        "id": "DyhZiaaxWWmf",
        "colab_type": "code",
        "colab": {
          "base_uri": "https://localhost:8080/",
          "height": 51
        },
        "outputId": "cfe009e9-1e84-4576-c727-aaf61b6c24fb"
      },
      "source": [
        "nilai = 80 \n",
        "if nilai>90:\n",
        "    print(\"Lulus\")\n",
        "    print(\"Selamat\")\n",
        "else:\n",
        "    print(\"Maaf Anda Belum Berhasil\")\n",
        "    \n",
        "print(\"Program Selesai\")"
      ],
      "execution_count": 15,
      "outputs": [
        {
          "output_type": "stream",
          "text": [
            "Maaf Anda Belum Berhasil\n",
            "Program Selesai\n"
          ],
          "name": "stdout"
        }
      ]
    },
    {
      "cell_type": "markdown",
      "metadata": {
        "id": "kP3LpPpOWWmi",
        "colab_type": "text"
      },
      "source": [
        "Jika terdapat lebih dari satu kondisi dapat menggunakan elif (else if):"
      ]
    },
    {
      "cell_type": "markdown",
      "metadata": {
        "id": "ZRVmHDpCWWmi",
        "colab_type": "text"
      },
      "source": [
        "![alt text](https://cdn.programiz.com/sites/tutorial2program/files/Python_if_elif_else_statement.jpg \"If Else If Statement\")\n"
      ]
    },
    {
      "cell_type": "code",
      "metadata": {
        "id": "zUPdpQOSWWmj",
        "colab_type": "code",
        "colab": {
          "base_uri": "https://localhost:8080/",
          "height": 51
        },
        "outputId": "feb5893a-fc03-4444-bcb9-0568c7fe60ed"
      },
      "source": [
        "nilai = 65 \n",
        "if nilai>=90:\n",
        "    print(\"Lulus\")\n",
        "    print(\"Selamat\")\n",
        "elif nilai>80:\n",
        "    print(\"Anda masuk ke waiting list\")\n",
        "elif nilai>60:\n",
        "    print(\"Perbaikan\")\n",
        "else:\n",
        "    print(\"Maaf Anda Belum Berhasil\")\n",
        "    \n",
        "print(\"Program Selesai\")"
      ],
      "execution_count": 16,
      "outputs": [
        {
          "output_type": "stream",
          "text": [
            "Perbaikan\n",
            "Program Selesai\n"
          ],
          "name": "stdout"
        }
      ]
    },
    {
      "cell_type": "markdown",
      "metadata": {
        "id": "MSHdPpVZWWml",
        "colab_type": "text"
      },
      "source": [
        "Percabangan juga bisa disarangkan pada percabangan, contoh:"
      ]
    },
    {
      "cell_type": "code",
      "metadata": {
        "id": "O0G1mZJzWWml",
        "colab_type": "code",
        "colab": {
          "base_uri": "https://localhost:8080/",
          "height": 51
        },
        "outputId": "1ac34d72-0070-41c3-e334-ba104be9936c"
      },
      "source": [
        "nilai = 91\n",
        "umur = 18\n",
        "\n",
        "if nilai>90 and umur > 17:\n",
        "    print(\"Selamat Anda Berhak Mengikuti Program Beasiswa\")\n",
        "elif umur<=17:\n",
        "    print(\"Umur belum cukup\")\n",
        "else:\n",
        "    print(\"Maaf Anda Belum Berhasil\")\n",
        "    \n",
        "print(\"Program Selesai\")"
      ],
      "execution_count": 17,
      "outputs": [
        {
          "output_type": "stream",
          "text": [
            "Selamat Anda Berhak Mengikuti Program Beasiswa\n",
            "Program Selesai\n"
          ],
          "name": "stdout"
        }
      ]
    },
    {
      "cell_type": "markdown",
      "metadata": {
        "id": "4EamvPKrWWmo",
        "colab_type": "text"
      },
      "source": [
        "![alt text](https://cdn.iconscout.com/icon/free/png-256/human-body-458026.png \"Body\")"
      ]
    },
    {
      "cell_type": "markdown",
      "metadata": {
        "id": "7lFJbu2kWWmo",
        "colab_type": "text"
      },
      "source": [
        "## LATIHAN\n",
        "\n",
        "\n",
        "Body Mass Index (BMI) menentukan sebuah keidealan berat badan terhadap tinggi badan. Berikut adalah formula dari BMI : BMI = weight (kg) ÷ height^2 (m^2)\n",
        "\n",
        "Berikut adalah kategorisasi BMI\n",
        "\n",
        "| BMI                 | Kategori BMI             |   |\n",
        "|---------------------|---------------------------|---|\n",
        "| Kurang dari 15        | Very severely underweight |   |\n",
        "| Diantara 15 dan 16   | Severely underweight      |   |\n",
        "| Diantara 16 dan 18.5 | Underweight               |   |\n",
        "| Diantara 18.5 dan 25 | Normal (healthy weight)   |   |\n",
        "| Diantara 25 dan 30   | Overweight                |   |\n",
        "| Diantara 30 dan 35   | Moderately obese          |   |\n",
        "| Diantara 35 dan 40   | Severely obese            |   |\n",
        "| Over 40             | Very severely obese       |   |\n",
        "\n",
        "Buatlah sebuah program yang memiliki dua variabel berat badan dengan satuan KG, dan tinggi badan dengan satuan CM, kemudian keluaran dari program adalah Kategori BMI"
      ]
    },
    {
      "cell_type": "code",
      "metadata": {
        "id": "Bp90sIA5WWmp",
        "colab_type": "code",
        "colab": {
          "base_uri": "https://localhost:8080/",
          "height": 34
        },
        "outputId": "00ba005a-9b0c-4a1e-e76e-349acc3e6c43"
      },
      "source": [
        "berat_badan = 83\n",
        "tinggi_badan = 165\n",
        "bmi = berat_badan / ((tinggi_badan^2)/100)\n",
        "print(bmi)"
      ],
      "execution_count": 25,
      "outputs": [
        {
          "output_type": "stream",
          "text": [
            "49.70059880239521\n"
          ],
          "name": "stdout"
        }
      ]
    }
  ]
}